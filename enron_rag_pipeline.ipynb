{
 "cells": [
  {
   "cell_type": "code",
   "execution_count": 3,
   "metadata": {
    "id": "sww1-gC5P4xX"
   },
   "outputs": [],
   "source": [
    "# 🧼 Clean Start: Enron Governance RAG Recall Evaluation Notebook\n",
    "# ----------------------------------\n",
    "# This notebook walks through a clean, structured pipeline:\n",
    "# - Chunking Enron emails\n",
    "# - Embedding text\n",
    "# - Indexing with FAISS\n",
    "# - Evaluating recall against ground truth\n",
    "# - Saving intermediate files for reuse\n",
    "\n",
    "# ✅ Step 1: Setup & Imports\n",
    "import os\n",
    "import re\n",
    "import json\n",
    "import pickle\n",
    "import numpy as np\n",
    "from tqdm import tqdm\n",
    "\n",
    "email_dir = \"buy-r\"\n",
    "chunk_size = 512\n",
    "chunk_overlap = 128\n",
    "chunks = []\n",
    "metadata = []"
   ]
  },
  {
   "cell_type": "code",
   "execution_count": 4,
   "metadata": {
    "colab": {
     "base_uri": "https://localhost:8080/",
     "height": 108
    },
    "id": "_zkFcT6vQB5w",
    "outputId": "cbe073fc-0ef7-4297-b853-13c418259a15"
   },
   "outputs": [
    {
     "data": {
      "text/html": [
       "\n",
       "     <input type=\"file\" id=\"files-ee204103-879e-4dd9-919f-eac3c3c2ba8d\" name=\"files[]\" multiple disabled\n",
       "        style=\"border:none\" />\n",
       "     <output id=\"result-ee204103-879e-4dd9-919f-eac3c3c2ba8d\">\n",
       "      Upload widget is only available when the cell has been executed in the\n",
       "      current browser session. Please rerun this cell to enable.\n",
       "      </output>\n",
       "      <script>// Copyright 2017 Google LLC\n",
       "//\n",
       "// Licensed under the Apache License, Version 2.0 (the \"License\");\n",
       "// you may not use this file except in compliance with the License.\n",
       "// You may obtain a copy of the License at\n",
       "//\n",
       "//      http://www.apache.org/licenses/LICENSE-2.0\n",
       "//\n",
       "// Unless required by applicable law or agreed to in writing, software\n",
       "// distributed under the License is distributed on an \"AS IS\" BASIS,\n",
       "// WITHOUT WARRANTIES OR CONDITIONS OF ANY KIND, either express or implied.\n",
       "// See the License for the specific language governing permissions and\n",
       "// limitations under the License.\n",
       "\n",
       "/**\n",
       " * @fileoverview Helpers for google.colab Python module.\n",
       " */\n",
       "(function(scope) {\n",
       "function span(text, styleAttributes = {}) {\n",
       "  const element = document.createElement('span');\n",
       "  element.textContent = text;\n",
       "  for (const key of Object.keys(styleAttributes)) {\n",
       "    element.style[key] = styleAttributes[key];\n",
       "  }\n",
       "  return element;\n",
       "}\n",
       "\n",
       "// Max number of bytes which will be uploaded at a time.\n",
       "const MAX_PAYLOAD_SIZE = 100 * 1024;\n",
       "\n",
       "function _uploadFiles(inputId, outputId) {\n",
       "  const steps = uploadFilesStep(inputId, outputId);\n",
       "  const outputElement = document.getElementById(outputId);\n",
       "  // Cache steps on the outputElement to make it available for the next call\n",
       "  // to uploadFilesContinue from Python.\n",
       "  outputElement.steps = steps;\n",
       "\n",
       "  return _uploadFilesContinue(outputId);\n",
       "}\n",
       "\n",
       "// This is roughly an async generator (not supported in the browser yet),\n",
       "// where there are multiple asynchronous steps and the Python side is going\n",
       "// to poll for completion of each step.\n",
       "// This uses a Promise to block the python side on completion of each step,\n",
       "// then passes the result of the previous step as the input to the next step.\n",
       "function _uploadFilesContinue(outputId) {\n",
       "  const outputElement = document.getElementById(outputId);\n",
       "  const steps = outputElement.steps;\n",
       "\n",
       "  const next = steps.next(outputElement.lastPromiseValue);\n",
       "  return Promise.resolve(next.value.promise).then((value) => {\n",
       "    // Cache the last promise value to make it available to the next\n",
       "    // step of the generator.\n",
       "    outputElement.lastPromiseValue = value;\n",
       "    return next.value.response;\n",
       "  });\n",
       "}\n",
       "\n",
       "/**\n",
       " * Generator function which is called between each async step of the upload\n",
       " * process.\n",
       " * @param {string} inputId Element ID of the input file picker element.\n",
       " * @param {string} outputId Element ID of the output display.\n",
       " * @return {!Iterable<!Object>} Iterable of next steps.\n",
       " */\n",
       "function* uploadFilesStep(inputId, outputId) {\n",
       "  const inputElement = document.getElementById(inputId);\n",
       "  inputElement.disabled = false;\n",
       "\n",
       "  const outputElement = document.getElementById(outputId);\n",
       "  outputElement.innerHTML = '';\n",
       "\n",
       "  const pickedPromise = new Promise((resolve) => {\n",
       "    inputElement.addEventListener('change', (e) => {\n",
       "      resolve(e.target.files);\n",
       "    });\n",
       "  });\n",
       "\n",
       "  const cancel = document.createElement('button');\n",
       "  inputElement.parentElement.appendChild(cancel);\n",
       "  cancel.textContent = 'Cancel upload';\n",
       "  const cancelPromise = new Promise((resolve) => {\n",
       "    cancel.onclick = () => {\n",
       "      resolve(null);\n",
       "    };\n",
       "  });\n",
       "\n",
       "  // Wait for the user to pick the files.\n",
       "  const files = yield {\n",
       "    promise: Promise.race([pickedPromise, cancelPromise]),\n",
       "    response: {\n",
       "      action: 'starting',\n",
       "    }\n",
       "  };\n",
       "\n",
       "  cancel.remove();\n",
       "\n",
       "  // Disable the input element since further picks are not allowed.\n",
       "  inputElement.disabled = true;\n",
       "\n",
       "  if (!files) {\n",
       "    return {\n",
       "      response: {\n",
       "        action: 'complete',\n",
       "      }\n",
       "    };\n",
       "  }\n",
       "\n",
       "  for (const file of files) {\n",
       "    const li = document.createElement('li');\n",
       "    li.append(span(file.name, {fontWeight: 'bold'}));\n",
       "    li.append(span(\n",
       "        `(${file.type || 'n/a'}) - ${file.size} bytes, ` +\n",
       "        `last modified: ${\n",
       "            file.lastModifiedDate ? file.lastModifiedDate.toLocaleDateString() :\n",
       "                                    'n/a'} - `));\n",
       "    const percent = span('0% done');\n",
       "    li.appendChild(percent);\n",
       "\n",
       "    outputElement.appendChild(li);\n",
       "\n",
       "    const fileDataPromise = new Promise((resolve) => {\n",
       "      const reader = new FileReader();\n",
       "      reader.onload = (e) => {\n",
       "        resolve(e.target.result);\n",
       "      };\n",
       "      reader.readAsArrayBuffer(file);\n",
       "    });\n",
       "    // Wait for the data to be ready.\n",
       "    let fileData = yield {\n",
       "      promise: fileDataPromise,\n",
       "      response: {\n",
       "        action: 'continue',\n",
       "      }\n",
       "    };\n",
       "\n",
       "    // Use a chunked sending to avoid message size limits. See b/62115660.\n",
       "    let position = 0;\n",
       "    do {\n",
       "      const length = Math.min(fileData.byteLength - position, MAX_PAYLOAD_SIZE);\n",
       "      const chunk = new Uint8Array(fileData, position, length);\n",
       "      position += length;\n",
       "\n",
       "      const base64 = btoa(String.fromCharCode.apply(null, chunk));\n",
       "      yield {\n",
       "        response: {\n",
       "          action: 'append',\n",
       "          file: file.name,\n",
       "          data: base64,\n",
       "        },\n",
       "      };\n",
       "\n",
       "      let percentDone = fileData.byteLength === 0 ?\n",
       "          100 :\n",
       "          Math.round((position / fileData.byteLength) * 100);\n",
       "      percent.textContent = `${percentDone}% done`;\n",
       "\n",
       "    } while (position < fileData.byteLength);\n",
       "  }\n",
       "\n",
       "  // All done.\n",
       "  yield {\n",
       "    response: {\n",
       "      action: 'complete',\n",
       "    }\n",
       "  };\n",
       "}\n",
       "\n",
       "scope.google = scope.google || {};\n",
       "scope.google.colab = scope.google.colab || {};\n",
       "scope.google.colab._files = {\n",
       "  _uploadFiles,\n",
       "  _uploadFilesContinue,\n",
       "};\n",
       "})(self);\n",
       "</script> "
      ],
      "text/plain": [
       "<IPython.core.display.HTML object>"
      ]
     },
     "metadata": {},
     "output_type": "display_data"
    },
    {
     "name": "stdout",
     "output_type": "stream",
     "text": [
      "Saving buy-r.zip to buy-r.zip\n",
      "Saving ground-truth.json to ground-truth.json\n"
     ]
    }
   ],
   "source": [
    "from google.colab import files\n",
    "uploaded = files.upload()"
   ]
  },
  {
   "cell_type": "code",
   "execution_count": 5,
   "metadata": {
    "id": "SdUTdwbh5373"
   },
   "outputs": [],
   "source": [
    "import zipfile\n",
    "\n",
    "with zipfile.ZipFile(\"buy-r.zip\", 'r') as zip_ref:\n",
    "    zip_ref.extractall(\"buy-r\")"
   ]
  },
  {
   "cell_type": "code",
   "execution_count": 6,
   "metadata": {
    "colab": {
     "base_uri": "https://localhost:8080/"
    },
    "id": "msehhioS5_XN",
    "outputId": "e85141ff-9d9e-4044-c705-4f5f0210568a"
   },
   "outputs": [
    {
     "name": "stdout",
     "output_type": "stream",
     "text": [
      "✅ Done. 6974 chunks, 6974 metadata entries.\n"
     ]
    }
   ],
   "source": [
    "\n",
    "for root, _, files in os.walk(email_dir):\n",
    "    for file in files:\n",
    "        full_path = os.path.join(root, file)\n",
    "        # Fix trailing dot issue\n",
    "        filename = os.path.splitext(file)[0].rstrip(\".\")\n",
    "        folder = os.path.relpath(root, start=\".\")\n",
    "        folder_rel = os.path.relpath(root, start=email_dir)\n",
    "        rel_path = f\"{folder_rel}/{filename}\"\n",
    "\n",
    "        try:\n",
    "            with open(full_path, 'r', errors='ignore') as f:\n",
    "                content = f.read()\n",
    "                body = re.split(r\"\\n\\s*\\n\", content, maxsplit=1)\n",
    "                if len(body) < 2:\n",
    "                    continue\n",
    "                body_text = body[1]\n",
    "\n",
    "                for i in range(0, len(body_text), chunk_size):\n",
    "                    chunk = body_text[i:i+chunk_size]\n",
    "                    if chunk.strip():\n",
    "                        chunks.append(chunk)\n",
    "                        metadata.append({\n",
    "                            \"doc_id\": rel_path,\n",
    "                            \"offset\": i\n",
    "                        })\n",
    "        except Exception as e:\n",
    "            print(f\"Error in {rel_path}: {e}\")\n",
    "\n",
    "# Save for reuse\n",
    "with open(\"chunks.pkl\", \"wb\") as f:\n",
    "    pickle.dump(chunks, f)\n",
    "with open(\"metadata.pkl\", \"wb\") as f:\n",
    "    pickle.dump(metadata, f)\n",
    "\n",
    "print(f\"✅ Done. {len(chunks)} chunks, {len(metadata)} metadata entries.\")\n"
   ]
  },
  {
   "cell_type": "code",
   "execution_count": 7,
   "metadata": {
    "colab": {
     "base_uri": "https://localhost:8080/"
    },
    "id": "_gonXwwgQckD",
    "outputId": "1b51b51b-4eb5-4dea-d7b0-1f71f8d99057"
   },
   "outputs": [
    {
     "name": "stdout",
     "output_type": "stream",
     "text": [
      "🎯 Loaded 27 relevant and 21 non-relevant ground truth entries.\n"
     ]
    }
   ],
   "source": [
    "with open(\"ground-truth.json\", \"r\") as f:\n",
    "    ground_truth_data = json.load(f)\n",
    "\n",
    "ground_truth_relevant = {doc[\"doc_id\"] for doc in ground_truth_data if doc[\"relevant\"]}\n",
    "ground_truth_nonrelevant = {doc[\"doc_id\"] for doc in ground_truth_data if not doc[\"relevant\"]}\n",
    "\n",
    "print(f\"🎯 Loaded {len(ground_truth_relevant)} relevant and {len(ground_truth_nonrelevant)} non-relevant ground truth entries.\")"
   ]
  },
  {
   "cell_type": "code",
   "execution_count": 8,
   "metadata": {
    "colab": {
     "base_uri": "https://localhost:8080/"
    },
    "id": "dXGBLc97VH_J",
    "outputId": "c25fd91f-e99a-4c01-9a70-ffa356453793"
   },
   "outputs": [
    {
     "name": "stdout",
     "output_type": "stream",
     "text": [
      "buy-r/inbox/1076\n",
      "buy-r/inbox/1076\n"
     ]
    }
   ],
   "source": [
    "# ✅ Sanity test #1\n",
    "for m in metadata:\n",
    "    if \"1076\" in m[\"doc_id\"]:\n",
    "        print(m[\"doc_id\"])"
   ]
  },
  {
   "cell_type": "code",
   "execution_count": 9,
   "metadata": {
    "colab": {
     "base_uri": "https://localhost:8080/"
    },
    "id": "UnXmYc_NROXo",
    "outputId": "0a931fbf-b9fa-42e8-b331-25f93dae2858"
   },
   "outputs": [
    {
     "name": "stdout",
     "output_type": "stream",
     "text": [
      "{'doc_id': 'buy-r/inbox/1076', 'offset': 0}\n"
     ]
    }
   ],
   "source": [
    "# ✅ Sanity test #2\n",
    "target = \"buy-r/inbox/1076\"\n",
    "matching = [m for m in metadata if m[\"doc_id\"] == target]\n",
    "print(matching[0] if matching else \"❌ Not found\")"
   ]
  },
  {
   "cell_type": "code",
   "execution_count": 10,
   "metadata": {
    "colab": {
     "base_uri": "https://localhost:8080/",
     "height": 751,
     "referenced_widgets": [
      "30c560702ae5444da06e1388df7d9054",
      "4ae2c423958749fcbf481a344579ff38",
      "921ec1af956d44ddac35c69de6219cbb",
      "f9c61a472b2046579eaf389cb43fa65f",
      "6cbd8decadc34f908c2f8ad5ee51b26f",
      "94021e8b270d455f821f11b2248f8eea",
      "4d51e177b6624b3887829e13362b8223",
      "91fd13b664064661a459cb4bf8a18e32",
      "004eee233c4641c3b6fefbc45064e04c",
      "6e5e97cdd56f42739bdb2f3ae04a6758",
      "ac5bbc1362974c1db71e273fe79eed03",
      "6f19d9b9e9e4469e813627fc1f18c290",
      "e17474f9b65044dba6641865fa9390bd",
      "c0171deb5fa24caca90b255a5ab3d992",
      "4666cd194479451f935059b860e3a0c3",
      "ecf9b36951c74473a17557e5f83c0e70",
      "f252e876477540c8bff115f180920bb5",
      "c952937dc73d418889739cfa5b692943",
      "578910666a4b45feb77c2bd0f1c80deb",
      "4ee502ea910e4fa58a23783f11389205",
      "9c875a88f95c4875b5f471ce3f6adc4f",
      "0922fabd2c604278959e551032e2ca84",
      "88639d90341d45edb5ab2f1522295d8c",
      "b83a5d45ba86410283225058da2c784b",
      "e4e7e2081f424c84bf5fea6f19800d0d",
      "fab6b58af3e6492b8df90353830f0388",
      "b8aafd6679554a27a6e2d462c1e7ea67",
      "eec1c459504947688abfd8c2eeeb0770",
      "a16f83ac91a84a1aa75da929e35a440f",
      "df45fa69b45e41c197c749805df4fa5c",
      "f2cf512aeeba4c3db579debf05ad4a61",
      "16b05b5bd7074e85bf091af6d47c3e2b",
      "f65099dd160b425884e24d153ba255ad",
      "b158dd5179cf417ba310b01eb1e90276",
      "9d6503f176204ca1908286d39652f7d0",
      "bff37a6c2fa14227b2d233d1c97a99de",
      "92ed219b9a7341b893a5ce80159e864b",
      "dec87ef6cb9e4c1bbf5a79ad2f26c3b2",
      "9bb7313943464239942d357685e2ded2",
      "e8ebd07a89304ae29981e1e080cb11ce",
      "f651c0ca8d4347e2b76d6a7c058d3901",
      "15a82f42c673422eaa6ca748ae0afe57",
      "60cbfabfe292435a9db42d9412d6978b",
      "c7422901ac3543ea97113c834ac31a8b",
      "f1198295953e4b9aa958368f5a9c351f",
      "59889ac85ae849f0a104701d9238e709",
      "ecc90070960a468797d1cedfb5b7ef4f",
      "cecb9e55eb384a22b2e9732a69110453",
      "cf03a42849a84e5d84d97f3f28ce3ec2",
      "e1fae87f936d4740af96bd947bc10757",
      "86e4063a1e05406eb3e53abf2e1177d2",
      "5176241f7df64632a7bd42328032d1a7",
      "a6747aa1420e4c6489b115ce2905320f",
      "ed6af243873b482eafdf4e9dfb18287e",
      "029ca2697825476fa39f500786dfdc65",
      "60e8795e4c2b435dbbf5dda58e782237",
      "0baa67bcc30b43269d5b0730b0d734c9",
      "98f959fe34d94df7b0745d1f47e85f1a",
      "05ed4a13cd194f74905c9fb6367414ca",
      "787bbcc1b9324a23b8248c871df835b0",
      "629d4cfcfcac4dbdb9eda002379c361d",
      "83247f49aa284ff88db5c8d9b07abef0",
      "8cabcc8868df499fbe3a62641c3771d3",
      "c5cf49007a464f829a525efd36018dea",
      "197520c9bed6442c915d759c4ccb96e0",
      "1e944d66892e47c48eb98dd1dafcc541",
      "224720cf353b41e18ecbab479641c05d",
      "e67ebfae6d864561b9a12bfc2d6b835f",
      "2087db99f4274154904b5a91130fa17b",
      "01fefd9bffff4055aaa78f9bb778ecb2",
      "d0087590cce445448e22dd20585f6886",
      "1a55b42b10ba43ebada1b7882ef98a1d",
      "be11e15af8584f8bade78ba5da5dac4c",
      "3409a7f7eb05429a98eb53038b47ab3f",
      "23b3a781fc6a4ad8a9e90c77fba94490",
      "6eb9fca1634241c09fcab68ab8ae8f21",
      "2f11d35e767c4947bb763f93e53d796a",
      "adf8a8625ff24ca79c3897ba6f1f47b2",
      "fdc405899c0b4de88768f766bcd66a0c",
      "1745f8b807284015aaef9bd5d584e46c",
      "e6af521c62064f04a907baabf4e2f6cf",
      "5d240ed6f5064538b12c5d2f1cffca54",
      "e3c6c199e08d427c93ad871de100e718",
      "3d80c4bf291d47b5a72cbe33647ef4f0",
      "a484b1ae07f64331b1501fa09d52cb50",
      "d644ecf241e2407d869bc9f696d391d4",
      "cb7d390217ea4d7cbdee5c4c83379163",
      "35c1d1155f324ab98af37e8106024c40",
      "574570b33cad4340b88f0d27d4970b2d",
      "40f624d7f8974296846d0cfb7755fea9",
      "eaa58f8a45094b8c9e42e9c287cff98c",
      "a0e24dea62bb4037a251471f489c1d8a",
      "577cc0a8542a4da5953c0d056a527d39",
      "66136521c9d64d82b551248f9d060ada",
      "be474eaa629c4bdeb19fbd440c696b4a",
      "3e197921825a445dbbb476e64ff01a47",
      "0dda55ab89d84da3a16975fd75eecdb9",
      "70199faa654845e399bb2598ce48e91e",
      "ced5ead03c9d42b3b9d962a43b60bc94",
      "79db6336164b47439133dcdd5d9a6505",
      "15a66e4936d34bc7a697035c97e1ae70",
      "047e941fcd3f43d7bc5027b7d9a41400",
      "3feef96c14f84e2586b1da921a52f620",
      "31444020df954158a4b680b46bc3624c",
      "9ce537f2c41240fa93b5e89e3d3c7824",
      "0d78e51b12894b5aad9431e2af5e5672",
      "bc03e011089a49269b0063d2c95e2d4b",
      "00b89d0f937844eab4077bb656e9bb50",
      "b1598100a83e47c0b127960cd6b8871f",
      "12f057b714424aae9a0174874999eceb",
      "d71e633ebe1e4ce3a6d2d3dc26ac8e0a",
      "7a78a6159b0a423096128ecb7c5bc0d2",
      "543d5622ce464c5a8fd141afc2956182",
      "39f01952de964fac85741c8a17b7ead4",
      "df15c4b77a8e4ccdb176f38acb3b8e1e",
      "b325546a73e94f829eea9984c062016e",
      "cbcac6ea88a44957aab578a795043186",
      "7aff5883d29f473e91066316d9fc1a50",
      "72c1bc9a150d4e1eb141412cc109de65",
      "76d9f20e41e649fca1331c59d3166f5e",
      "e3d30c6718054ff798b0772be0b25aa3",
      "003199c90125404388a3976b03b65af3",
      "f77e98b611b54798ade1581dee6fd03c",
      "65b37ae467e841439158743e9e94fe8f",
      "21fd7b2137374b1ca66dc9382bd34995",
      "8b4fd5a33ab04ba098e49b8f1d4bbba6",
      "313db23dc1e4486fa4b020257132b68f",
      "3859567125e24c1dbbf0c0267d582fc6",
      "55b68fa4e7d44b7a91ef6095ff60bbd5",
      "33728d9ea95743ceb0497d2b20d4e83e",
      "7dab9a2719a44b538ba195a524f84525",
      "20dbe3ea3f71424099ccf4996f8ac4ba"
     ]
    },
    "id": "Ec0S9gNG8KY2",
    "outputId": "26a1665a-3f46-4937-e404-9cdc4e5472f7"
   },
   "outputs": [
    {
     "name": "stdout",
     "output_type": "stream",
     "text": [
      "\u001b[2K   \u001b[90m━━━━━━━━━━━━━━━━━━━━━━━━━━━━━━━━━━━━━━━━\u001b[0m \u001b[32m30.7/30.7 MB\u001b[0m \u001b[31m57.6 MB/s\u001b[0m eta \u001b[36m0:00:00\u001b[0m\n",
      "\u001b[2K   \u001b[90m━━━━━━━━━━━━━━━━━━━━━━━━━━━━━━━━━━━━━━━━\u001b[0m \u001b[32m363.4/363.4 MB\u001b[0m \u001b[31m4.2 MB/s\u001b[0m eta \u001b[36m0:00:00\u001b[0m\n",
      "\u001b[2K   \u001b[90m━━━━━━━━━━━━━━━━━━━━━━━━━━━━━━━━━━━━━━━━\u001b[0m \u001b[32m13.8/13.8 MB\u001b[0m \u001b[31m98.1 MB/s\u001b[0m eta \u001b[36m0:00:00\u001b[0m\n",
      "\u001b[2K   \u001b[90m━━━━━━━━━━━━━━━━━━━━━━━━━━━━━━━━━━━━━━━━\u001b[0m \u001b[32m24.6/24.6 MB\u001b[0m \u001b[31m73.2 MB/s\u001b[0m eta \u001b[36m0:00:00\u001b[0m\n",
      "\u001b[2K   \u001b[90m━━━━━━━━━━━━━━━━━━━━━━━━━━━━━━━━━━━━━━━━\u001b[0m \u001b[32m883.7/883.7 kB\u001b[0m \u001b[31m45.3 MB/s\u001b[0m eta \u001b[36m0:00:00\u001b[0m\n",
      "\u001b[2K   \u001b[90m━━━━━━━━━━━━━━━━━━━━━━━━━━━━━━━━━━━━━━━━\u001b[0m \u001b[32m664.8/664.8 MB\u001b[0m \u001b[31m2.9 MB/s\u001b[0m eta \u001b[36m0:00:00\u001b[0m\n",
      "\u001b[2K   \u001b[90m━━━━━━━━━━━━━━━━━━━━━━━━━━━━━━━━━━━━━━━━\u001b[0m \u001b[32m211.5/211.5 MB\u001b[0m \u001b[31m5.8 MB/s\u001b[0m eta \u001b[36m0:00:00\u001b[0m\n",
      "\u001b[2K   \u001b[90m━━━━━━━━━━━━━━━━━━━━━━━━━━━━━━━━━━━━━━━━\u001b[0m \u001b[32m56.3/56.3 MB\u001b[0m \u001b[31m12.6 MB/s\u001b[0m eta \u001b[36m0:00:00\u001b[0m\n",
      "\u001b[2K   \u001b[90m━━━━━━━━━━━━━━━━━━━━━━━━━━━━━━━━━━━━━━━━\u001b[0m \u001b[32m127.9/127.9 MB\u001b[0m \u001b[31m7.0 MB/s\u001b[0m eta \u001b[36m0:00:00\u001b[0m\n",
      "\u001b[2K   \u001b[90m━━━━━━━━━━━━━━━━━━━━━━━━━━━━━━━━━━━━━━━━\u001b[0m \u001b[32m207.5/207.5 MB\u001b[0m \u001b[31m5.7 MB/s\u001b[0m eta \u001b[36m0:00:00\u001b[0m\n",
      "\u001b[2K   \u001b[90m━━━━━━━━━━━━━━━━━━━━━━━━━━━━━━━━━━━━━━━━\u001b[0m \u001b[32m21.1/21.1 MB\u001b[0m \u001b[31m78.0 MB/s\u001b[0m eta \u001b[36m0:00:00\u001b[0m\n",
      "\u001b[?25h"
     ]
    },
    {
     "name": "stderr",
     "output_type": "stream",
     "text": [
      "/usr/local/lib/python3.11/dist-packages/huggingface_hub/utils/_auth.py:94: UserWarning: \n",
      "The secret `HF_TOKEN` does not exist in your Colab secrets.\n",
      "To authenticate with the Hugging Face Hub, create a token in your settings tab (https://huggingface.co/settings/tokens), set it as secret in your Google Colab and restart your session.\n",
      "You will be able to reuse this secret in all of your notebooks.\n",
      "Please note that authentication is recommended but still optional to access public models or datasets.\n",
      "  warnings.warn(\n"
     ]
    },
    {
     "data": {
      "application/vnd.jupyter.widget-view+json": {
       "model_id": "30c560702ae5444da06e1388df7d9054",
       "version_major": 2,
       "version_minor": 0
      },
      "text/plain": [
       "modules.json:   0%|          | 0.00/349 [00:00<?, ?B/s]"
      ]
     },
     "metadata": {},
     "output_type": "display_data"
    },
    {
     "data": {
      "application/vnd.jupyter.widget-view+json": {
       "model_id": "6f19d9b9e9e4469e813627fc1f18c290",
       "version_major": 2,
       "version_minor": 0
      },
      "text/plain": [
       "config_sentence_transformers.json:   0%|          | 0.00/124 [00:00<?, ?B/s]"
      ]
     },
     "metadata": {},
     "output_type": "display_data"
    },
    {
     "data": {
      "application/vnd.jupyter.widget-view+json": {
       "model_id": "88639d90341d45edb5ab2f1522295d8c",
       "version_major": 2,
       "version_minor": 0
      },
      "text/plain": [
       "README.md:   0%|          | 0.00/94.6k [00:00<?, ?B/s]"
      ]
     },
     "metadata": {},
     "output_type": "display_data"
    },
    {
     "data": {
      "application/vnd.jupyter.widget-view+json": {
       "model_id": "b158dd5179cf417ba310b01eb1e90276",
       "version_major": 2,
       "version_minor": 0
      },
      "text/plain": [
       "sentence_bert_config.json:   0%|          | 0.00/52.0 [00:00<?, ?B/s]"
      ]
     },
     "metadata": {},
     "output_type": "display_data"
    },
    {
     "data": {
      "application/vnd.jupyter.widget-view+json": {
       "model_id": "f1198295953e4b9aa958368f5a9c351f",
       "version_major": 2,
       "version_minor": 0
      },
      "text/plain": [
       "config.json:   0%|          | 0.00/777 [00:00<?, ?B/s]"
      ]
     },
     "metadata": {},
     "output_type": "display_data"
    },
    {
     "data": {
      "application/vnd.jupyter.widget-view+json": {
       "model_id": "60e8795e4c2b435dbbf5dda58e782237",
       "version_major": 2,
       "version_minor": 0
      },
      "text/plain": [
       "model.safetensors:   0%|          | 0.00/438M [00:00<?, ?B/s]"
      ]
     },
     "metadata": {},
     "output_type": "display_data"
    },
    {
     "data": {
      "application/vnd.jupyter.widget-view+json": {
       "model_id": "224720cf353b41e18ecbab479641c05d",
       "version_major": 2,
       "version_minor": 0
      },
      "text/plain": [
       "tokenizer_config.json:   0%|          | 0.00/366 [00:00<?, ?B/s]"
      ]
     },
     "metadata": {},
     "output_type": "display_data"
    },
    {
     "data": {
      "application/vnd.jupyter.widget-view+json": {
       "model_id": "adf8a8625ff24ca79c3897ba6f1f47b2",
       "version_major": 2,
       "version_minor": 0
      },
      "text/plain": [
       "vocab.txt:   0%|          | 0.00/232k [00:00<?, ?B/s]"
      ]
     },
     "metadata": {},
     "output_type": "display_data"
    },
    {
     "data": {
      "application/vnd.jupyter.widget-view+json": {
       "model_id": "574570b33cad4340b88f0d27d4970b2d",
       "version_major": 2,
       "version_minor": 0
      },
      "text/plain": [
       "tokenizer.json:   0%|          | 0.00/711k [00:00<?, ?B/s]"
      ]
     },
     "metadata": {},
     "output_type": "display_data"
    },
    {
     "data": {
      "application/vnd.jupyter.widget-view+json": {
       "model_id": "79db6336164b47439133dcdd5d9a6505",
       "version_major": 2,
       "version_minor": 0
      },
      "text/plain": [
       "special_tokens_map.json:   0%|          | 0.00/125 [00:00<?, ?B/s]"
      ]
     },
     "metadata": {},
     "output_type": "display_data"
    },
    {
     "data": {
      "application/vnd.jupyter.widget-view+json": {
       "model_id": "d71e633ebe1e4ce3a6d2d3dc26ac8e0a",
       "version_major": 2,
       "version_minor": 0
      },
      "text/plain": [
       "config.json:   0%|          | 0.00/190 [00:00<?, ?B/s]"
      ]
     },
     "metadata": {},
     "output_type": "display_data"
    },
    {
     "name": "stdout",
     "output_type": "stream",
     "text": [
      "🔄 Embedding all chunks...\n"
     ]
    },
    {
     "data": {
      "application/vnd.jupyter.widget-view+json": {
       "model_id": "003199c90125404388a3976b03b65af3",
       "version_major": 2,
       "version_minor": 0
      },
      "text/plain": [
       "Batches:   0%|          | 0/218 [00:00<?, ?it/s]"
      ]
     },
     "metadata": {},
     "output_type": "display_data"
    },
    {
     "name": "stdout",
     "output_type": "stream",
     "text": [
      "✅ Embedding complete. Shape: (6974, 768)\n"
     ]
    }
   ],
   "source": [
    "# ✅ Load model and embed all chunks\n",
    "!pip install -q sentence-transformers faiss-cpu\n",
    "\n",
    "from sentence_transformers import SentenceTransformer\n",
    "import faiss\n",
    "\n",
    "model = SentenceTransformer(\"BAAI/bge-base-en-v1.5\") # QA-tuned model\n",
    "\n",
    "print(\"🔄 Embedding all chunks...\")\n",
    "embeddings = model.encode(chunks, show_progress_bar=True, normalize_embeddings=True)\n",
    "\n",
    "print(\"✅ Embedding complete. Shape:\", embeddings.shape)"
   ]
  },
  {
   "cell_type": "code",
   "execution_count": 11,
   "metadata": {
    "colab": {
     "base_uri": "https://localhost:8080/",
     "height": 17
    },
    "id": "eTXLnL2Kw2LE",
    "outputId": "a1b6b1d4-8e15-4b2c-92c4-a791fba7fe06"
   },
   "outputs": [
    {
     "data": {
      "application/javascript": [
       "\n",
       "    async function download(id, filename, size) {\n",
       "      if (!google.colab.kernel.accessAllowed) {\n",
       "        return;\n",
       "      }\n",
       "      const div = document.createElement('div');\n",
       "      const label = document.createElement('label');\n",
       "      label.textContent = `Downloading \"${filename}\": `;\n",
       "      div.appendChild(label);\n",
       "      const progress = document.createElement('progress');\n",
       "      progress.max = size;\n",
       "      div.appendChild(progress);\n",
       "      document.body.appendChild(div);\n",
       "\n",
       "      const buffers = [];\n",
       "      let downloaded = 0;\n",
       "\n",
       "      const channel = await google.colab.kernel.comms.open(id);\n",
       "      // Send a message to notify the kernel that we're ready.\n",
       "      channel.send({})\n",
       "\n",
       "      for await (const message of channel.messages) {\n",
       "        // Send a message to notify the kernel that we're ready.\n",
       "        channel.send({})\n",
       "        if (message.buffers) {\n",
       "          for (const buffer of message.buffers) {\n",
       "            buffers.push(buffer);\n",
       "            downloaded += buffer.byteLength;\n",
       "            progress.value = downloaded;\n",
       "          }\n",
       "        }\n",
       "      }\n",
       "      const blob = new Blob(buffers, {type: 'application/binary'});\n",
       "      const a = document.createElement('a');\n",
       "      a.href = window.URL.createObjectURL(blob);\n",
       "      a.download = filename;\n",
       "      div.appendChild(a);\n",
       "      a.click();\n",
       "      div.remove();\n",
       "    }\n",
       "  "
      ],
      "text/plain": [
       "<IPython.core.display.Javascript object>"
      ]
     },
     "metadata": {},
     "output_type": "display_data"
    },
    {
     "data": {
      "application/javascript": [
       "download(\"download_ab188163-e16e-4335-b837-1eab9174c774\", \"embeddings_bundle.zip\", 24455620)"
      ],
      "text/plain": [
       "<IPython.core.display.Javascript object>"
      ]
     },
     "metadata": {},
     "output_type": "display_data"
    }
   ],
   "source": [
    "# Download a local version of the embeddings file, 23.3 MB\n",
    "\n",
    "import numpy as np\n",
    "import json\n",
    "import zipfile\n",
    "from google.colab import files\n",
    "\n",
    "# Step 1: Save embeddings to a .npy file\n",
    "np.save(\"embeddings.npy\", embeddings)\n",
    "\n",
    "# Step 2: Save your text chunks to a .jsonl file\n",
    "with open(\"chunks.jsonl\", \"w\") as f:\n",
    "    for chunk in chunks:\n",
    "        f.write(json.dumps({\"text\": chunk}) + \"\\n\")\n",
    "\n",
    "# Step 3: Zip the files\n",
    "with zipfile.ZipFile(\"embeddings_bundle.zip\", \"w\") as zipf:\n",
    "    zipf.write(\"embeddings.npy\")\n",
    "    zipf.write(\"chunks.jsonl\")\n",
    "\n",
    "# Step 4: Trigger download to your local machine\n",
    "files.download(\"embeddings_bundle.zip\")"
   ]
  },
  {
   "cell_type": "code",
   "execution_count": 12,
   "metadata": {
    "colab": {
     "base_uri": "https://localhost:8080/"
    },
    "id": "2-t9BYiE_248",
    "outputId": "d029312c-1ab6-4f90-f67d-d2c6b49ad057"
   },
   "outputs": [
    {
     "name": "stdout",
     "output_type": "stream",
     "text": [
      "📚 FAISS index built with 6974 vectors.\n"
     ]
    }
   ],
   "source": [
    "# ✅ Build FAISS index\n",
    "index = faiss.IndexFlatL2(embeddings.shape[1])\n",
    "index.add(embeddings)\n",
    "\n",
    "print(f\"📚 FAISS index built with {index.ntotal} vectors.\")"
   ]
  },
  {
   "cell_type": "code",
   "execution_count": 13,
   "metadata": {
    "colab": {
     "base_uri": "https://localhost:8080/"
    },
    "id": "ZCManIo103XN",
    "outputId": "6e271582-8f34-429b-8b13-6b8fbe8cc1a0"
   },
   "outputs": [
    {
     "name": "stdout",
     "output_type": "stream",
     "text": [
      "--- Evaluation ---\n",
      "✅ Recall@100: 0.15\n",
      "✅ Precision@100: 0.20\n",
      "✅ F1 Score: 0.17\n",
      "🎯 Relevant documents retrieved: ['buy-r/inbox/1076', 'buy-r/inbox/1117', 'buy-r/inbox/431', 'buy-r/inbox/717']\n",
      "🚫 Non-relevant documents retrieved: []\n",
      "📉 Missed relevant documents: ['buy-r/discussion_threads/10', 'buy-r/discussion_threads/122', 'buy-r/inbox/1068', 'buy-r/inbox/1070', 'buy-r/inbox/1071', 'buy-r/inbox/1089', 'buy-r/inbox/1103', 'buy-r/inbox/1136', 'buy-r/inbox/1138', 'buy-r/inbox/142', 'buy-r/inbox/276', 'buy-r/inbox/570', 'buy-r/inbox/677', 'buy-r/inbox/814', 'buy-r/inbox/822', 'buy-r/sent/177', 'buy-r/sent_items/227', 'buy-r/sent_items/236', 'buy-r/sent_items/276', 'buy-r/sent_items/288', 'buy-r/sent_items/322', 'buy-r/sent_items/343', 'buy-r/sent_items/372']\n"
     ]
    }
   ],
   "source": [
    "# Optional: sample query method to test and measure recall prior to reranking\n",
    "query = \"What concerns were raised internally at Enron about LJM, Raptor transactions, or failures to disclose risk?\"\n",
    "\n",
    "top_k = 100\n",
    "\n",
    "query_embedding = model.encode([query])\n",
    "distances, indices = index.search(query_embedding, k=20)\n",
    "\n",
    "retrieved_doc_ids = set()\n",
    "for idx in indices[0]:\n",
    "    doc_id = metadata[idx][\"doc_id\"]\n",
    "    retrieved_doc_ids.add(doc_id)\n",
    "\n",
    "# Re-run the eval\n",
    "true_positives = retrieved_doc_ids & ground_truth_relevant\n",
    "false_positives = retrieved_doc_ids & ground_truth_nonrelevant\n",
    "false_negatives = ground_truth_relevant - retrieved_doc_ids\n",
    "\n",
    "recall = len(true_positives) / len(ground_truth_relevant) if ground_truth_relevant else 0\n",
    "precision = len(true_positives) / len(retrieved_doc_ids) if retrieved_doc_ids else 0\n",
    "f1 = 2 * (precision * recall) / (precision + recall) if precision + recall > 0 else 0\n",
    "\n",
    "print(\"--- Evaluation ---\")\n",
    "print(f\"✅ Recall@{top_k}: {recall:.2f}\")\n",
    "print(f\"✅ Precision@{top_k}: {precision:.2f}\")\n",
    "print(f\"✅ F1 Score: {f1:.2f}\")\n",
    "print(f\"🎯 Relevant documents retrieved: {sorted(true_positives)}\")\n",
    "print(f\"🚫 Non-relevant documents retrieved: {sorted(false_positives)}\")\n",
    "print(f\"📉 Missed relevant documents: {sorted(false_negatives)}\")"
   ]
  },
  {
   "cell_type": "code",
   "execution_count": 14,
   "metadata": {
    "colab": {
     "base_uri": "https://localhost:8080/",
     "height": 226,
     "referenced_widgets": [
      "1828b19a8be6407cb7703fe7364dabed",
      "ac97d387ce9a4ef595148c66d9291622",
      "64704d0de1e140d0bcfd106395fe3cb7",
      "8082629a54fa46b3b7477be2cb285832",
      "1d0401911d3648459c9431ac6cbaa5fe",
      "7dc1cd766a40406b909dd3801f53c2c3",
      "77e9a0ea4caa433b93184a97e0c5df8f",
      "8c12f96458a94cd9856789cdc3e2da7b",
      "0fde3280ce0a44a6a6c10d9fc473147f",
      "473804e9cb424e019d842c7fbcfea9f4",
      "e4d5bf9b172547f2a396f8e301c92d6a",
      "c8ba0795fff04b98b7ba7ffa025576ef",
      "22140960c31845779c32d714da41c91e",
      "1a0ebb4c93454d69a0426cbcf7bebe6d",
      "690b852d7cf042c2a39efb5425a7d79b",
      "869c2d3b5e9d4191ad726cf1c3bb9674",
      "575864e23ffd415dbfbf245e9521ed0b",
      "5dcf5156a7254c2a94f9f26fb2934c7f",
      "06db80491b27419ba74b39a0bb384240",
      "b7277dfd599b454aac8cb93c5d1dc7ce",
      "b5a0e46ad5534c4694ba18135a6b53e7",
      "b84f0df397db41158139a2f7b0a355b3",
      "17fb730adc6d492d9e48ddcc09f23ace",
      "ac0f925c9a774c528a8422d1c1919098",
      "e039a6bc8c86421b943dc97d50cf58ff",
      "8de38cea56614896b5b54c2ba33605ca",
      "5207675374ec498890058a05a3be310b",
      "b77070758b9f4893b99d3a3ae7a3b046",
      "935b997ee89241b7bee165a3bdddd47b",
      "716f07e262744e6d8cee8d301a4f6fa3",
      "1095dfab60644406a7015eca98f47025",
      "6daac53332aa4edfb1ed6dc8862170e5",
      "6ef0221cb01e46a9b5abcac817b711a1",
      "dcbce4505a384219a5a82d0b23c7d001",
      "7f3a113f5cb941d0bc24fe62107598c9",
      "1c1c6b65fe2848bc8789446aa5491d4c",
      "c62490a4388042afb758f3d626695451",
      "aa3046dcdd0f4b91802b140f62147aca",
      "6dbac5ced94f413a896a85ff4b713e1d",
      "456f7a8e18f14bb8a253f23b56d8a4bf",
      "3ee99bfee9be4d81831cc7025371226d",
      "057457fe2f734e0d8214b4efba3150fb",
      "c6deb7df9ba34f6ea3e33a5d69892bab",
      "06c92cf973a142c390c0bff137395d4c",
      "18509ab1a8bf46c99c27ded2128986ee",
      "f266580bd6e842c496230c1915832e26",
      "6c9f0b202b6c4230b002b765a1818070",
      "27154eff357446d5a91615bca66bd13e",
      "73dc11f1ac5b436da97859dde776fcea",
      "eb244f233e5046208adf5a6a67ba9600",
      "1cce329ae56942c2af6022dd8c809915",
      "0efcadda40b5446691ffab9974eb9b39",
      "e56b89e0fe7444f6aa8d00c52501b25a",
      "f694e216573443a48d4745f77e953c99",
      "b7e311e78c474923ae96bc9b9ccec6cf",
      "1c8678cca465461a80054ecb7fd96318",
      "20506c9419114def99b010a16de13272",
      "1d814c142d044b78970049c2d5b103ab",
      "2ee368afb3434a7c8598ff9cd0a5750e",
      "7044e0a1f1734d28aecf015f753c5b06",
      "858a36567dbf45a587f4a6508bb55426",
      "2b7ec758e1dc45ad991bed0051a05887",
      "bac6a6edb89b4710a96ebc068eea92fc",
      "c6181b9056c243f9851e0ff42efcbcf4",
      "0936696e23084e69bd6dde9ff718d917",
      "78a7725a472144fb861662541070a9ff"
     ]
    },
    "id": "qPoJJFTWQxhH",
    "outputId": "0cf30e24-3d6a-4176-9a2c-7bb9096e7b83"
   },
   "outputs": [
    {
     "data": {
      "application/vnd.jupyter.widget-view+json": {
       "model_id": "1828b19a8be6407cb7703fe7364dabed",
       "version_major": 2,
       "version_minor": 0
      },
      "text/plain": [
       "tokenizer_config.json:   0%|          | 0.00/443 [00:00<?, ?B/s]"
      ]
     },
     "metadata": {},
     "output_type": "display_data"
    },
    {
     "data": {
      "application/vnd.jupyter.widget-view+json": {
       "model_id": "c8ba0795fff04b98b7ba7ffa025576ef",
       "version_major": 2,
       "version_minor": 0
      },
      "text/plain": [
       "sentencepiece.bpe.model:   0%|          | 0.00/5.07M [00:00<?, ?B/s]"
      ]
     },
     "metadata": {},
     "output_type": "display_data"
    },
    {
     "data": {
      "application/vnd.jupyter.widget-view+json": {
       "model_id": "17fb730adc6d492d9e48ddcc09f23ace",
       "version_major": 2,
       "version_minor": 0
      },
      "text/plain": [
       "tokenizer.json:   0%|          | 0.00/17.1M [00:00<?, ?B/s]"
      ]
     },
     "metadata": {},
     "output_type": "display_data"
    },
    {
     "data": {
      "application/vnd.jupyter.widget-view+json": {
       "model_id": "dcbce4505a384219a5a82d0b23c7d001",
       "version_major": 2,
       "version_minor": 0
      },
      "text/plain": [
       "special_tokens_map.json:   0%|          | 0.00/279 [00:00<?, ?B/s]"
      ]
     },
     "metadata": {},
     "output_type": "display_data"
    },
    {
     "data": {
      "application/vnd.jupyter.widget-view+json": {
       "model_id": "18509ab1a8bf46c99c27ded2128986ee",
       "version_major": 2,
       "version_minor": 0
      },
      "text/plain": [
       "config.json:   0%|          | 0.00/801 [00:00<?, ?B/s]"
      ]
     },
     "metadata": {},
     "output_type": "display_data"
    },
    {
     "data": {
      "application/vnd.jupyter.widget-view+json": {
       "model_id": "1c8678cca465461a80054ecb7fd96318",
       "version_major": 2,
       "version_minor": 0
      },
      "text/plain": [
       "model.safetensors:   0%|          | 0.00/2.24G [00:00<?, ?B/s]"
      ]
     },
     "metadata": {},
     "output_type": "display_data"
    },
    {
     "name": "stdout",
     "output_type": "stream",
     "text": [
      "⚠️ Reranker using CPU\n"
     ]
    }
   ],
   "source": [
    "# ✅ Step 8: Rerank FAISS top-k results using BGE-Reranker\n",
    "!pip install -q transformers\n",
    "from transformers import AutoTokenizer, AutoModelForSequenceClassification\n",
    "import torch\n",
    "\n",
    "reranker_tokenizer = AutoTokenizer.from_pretrained(\"BAAI/bge-reranker-large\")\n",
    "reranker_model = AutoModelForSequenceClassification.from_pretrained(\"BAAI/bge-reranker-large\")\n",
    "reranker_model.eval()\n",
    "if torch.cuda.is_available():\n",
    "    reranker_model.cuda()\n",
    "    print(\"🚀 Reranker using GPU\")\n",
    "else:\n",
    "    print(\"⚠️ Reranker using CPU\")\n"
   ]
  },
  {
   "cell_type": "code",
   "execution_count": null,
   "metadata": {
    "id": "LfmlYRayRC18"
   },
   "outputs": [],
   "source": [
    "# ✅ Optional: GPT-based Reranker\n",
    "import openai\n",
    "from openai import OpenAI\n",
    "client = OpenAI(api_key=OPENAI-TOKEN)\n",
    "\n",
    "def gpt_rerank(query, candidates, max_chunks=20):\n",
    "    results = []\n",
    "    for i, (chunk, doc_id) in enumerate(candidates[:max_chunks]):\n",
    "        prompt = f\"\"\"\n",
    "Question: {query}\n",
    "\n",
    "Context:\n",
    "{chunk}\n",
    "\n",
    "Does this context directly help answer the question above? Respond only with Yes or No.\n",
    "\"\"\"\n",
    "        try:\n",
    "            response = client.chat.completions.create(\n",
    "                model=\"gpt-4\",\n",
    "                messages=[{\"role\": \"user\", \"content\": prompt}],\n",
    "                temperature=0,\n",
    "                max_tokens=10,\n",
    "            )\n",
    "            answer = response.choices[0].message.content.strip().lower()\n",
    "            if \"yes\" in answer:\n",
    "                results.append((doc_id, chunk))\n",
    "        except Exception as e:\n",
    "            print(f\"⚠️ GPT error on chunk {i} ({doc_id}): {e}\")\n",
    "    return results\n",
    "\n",
    "def rerank_with_gpt(query, top_k_retrieve=100):\n",
    "    print(f\"🔍 GPT final reranking for query: '{query}'\")\n",
    "    query_embedding = model.encode([query], normalize_embeddings=True)\n",
    "    _, indices = index.search(np.array(query_embedding).astype(\"float32\"), k=top_k_retrieve)\n",
    "\n",
    "    candidates = [(chunks[i], metadata[i][\"doc_id\"]) for i in indices[0]]\n",
    "    gpt_results = gpt_rerank(query, candidates)\n",
    "\n",
    "    retrieved_set = {doc_id for doc_id, _ in gpt_results}\n",
    "    true_positives = retrieved_set & ground_truth_relevant\n",
    "    false_positives = retrieved_set & ground_truth_nonrelevant\n",
    "    false_negatives = ground_truth_relevant - retrieved_set\n",
    "\n",
    "    recall = len(true_positives) / len(ground_truth_relevant) if ground_truth_relevant else 0\n",
    "    precision = len(true_positives) / len(retrieved_set) if retrieved_set else 0\n",
    "    f1 = 2 * (precision * recall) / (precision + recall) if (precision + recall) > 0 else 0\n",
    "\n",
    "    print(\"--- GPT RERANKED Evaluation ---\")\n",
    "    print(f\"📈 Recall: {recall:.2f}\")\n",
    "    print(f\"✅ Precision: {precision:.2f}\")\n",
    "    print(f\"🎯 F1 Score: {f1:.2f}\")\n",
    "    print(f\"✔️ Relevant documents retrieved: {sorted(true_positives)}\")\n",
    "    print(f\"🚫 Non-relevant documents retrieved: {sorted(false_positives)}\")\n",
    "    print(f\"📉 Missed relevant documents: {sorted(false_negatives)}\")\n",
    "\n",
    "def rerank_and_evaluate(query, top_k_retrieve=100, top_k_rerank=20):\n",
    "    print(f\"🔍 Reranking for query: '{query}'\")\n",
    "    query_embedding = model.encode([query], normalize_embeddings=True)\n",
    "    _, indices = index.search(np.array(query_embedding).astype(\"float32\"), k=top_k_retrieve)\n",
    "\n",
    "    candidate_pairs = []\n",
    "    candidate_ids = []\n",
    "    for i in indices[0]:\n",
    "        candidate_pairs.append((query, chunks[i]))\n",
    "        candidate_ids.append(metadata[i][\"doc_id\"])\n",
    "\n",
    "    batch_size = 32\n",
    "    scores = []\n",
    "    for start in range(0, len(candidate_pairs), batch_size):\n",
    "        end = start + batch_size\n",
    "        batch_pairs = candidate_pairs[start:end]\n",
    "        reranker_inputs = reranker_tokenizer.batch_encode_plus(\n",
    "            batch_pairs, padding=True, truncation=True, max_length=512, return_tensors=\"pt\"\n",
    "        )\n",
    "        if torch.cuda.is_available():\n",
    "            reranker_inputs = {k: v.cuda() for k, v in reranker_inputs.items()}\n",
    "        with torch.no_grad():\n",
    "            batch_scores = reranker_model(**reranker_inputs).logits.squeeze(-1)\n",
    "        scores.extend(batch_scores.detach().cpu().tolist())\n",
    "\n",
    "    reranked = sorted(zip(candidate_ids, scores), key=lambda x: x[1], reverse=True)\n",
    "    reranked_doc_ids = [doc_id for doc_id, _ in reranked[:top_k_rerank]]\n",
    "\n",
    "    retrieved_set = set(reranked_doc_ids)\n",
    "    true_positives = retrieved_set & ground_truth_relevant\n",
    "    false_positives = retrieved_set & ground_truth_nonrelevant\n",
    "    false_negatives = ground_truth_relevant - retrieved_set\n",
    "\n",
    "    recall = len(true_positives) / len(ground_truth_relevant) if ground_truth_relevant else 0\n",
    "    precision = len(true_positives) / len(retrieved_set) if retrieved_set else 0\n",
    "    f1 = 2 * (precision * recall) / (precision + recall) if (precision + recall) > 0 else 0\n",
    "\n",
    "    print(\"--- RERANKED Evaluation ---\")\n",
    "    print(f\"📈 Recall@{top_k_rerank}: {recall:.2f}\")\n",
    "    print(f\"✅ Precision@{top_k_rerank}: {precision:.2f}\")\n",
    "    print(f\"🎯 F1 Score: {f1:.2f}\")\n",
    "    print(f\"✔️ Relevant documents retrieved: {sorted(true_positives)}\")\n",
    "    print(f\"🚫 Non-relevant documents retrieved: {sorted(false_positives)}\")\n",
    "    print(f\"📉 Missed relevant documents: {sorted(false_negatives)}\")\n"
   ]
  }
 ],
 "metadata": {
  "colab": {
   "provenance": []
  },
  "kernelspec": {
   "display_name": "Python 3",
   "name": "python3"
  },
  "language_info": {
   "name": "python"
  }
 },
 "nbformat": 4,
 "nbformat_minor": 0
}
